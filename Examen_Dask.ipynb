{
 "cells": [
  {
   "cell_type": "markdown",
   "metadata": {},
   "source": [
    "Integrantes: Yoselin Araceli Campos Sacramento, Ana Margarita Reyes Hernandez, Alexis Martinez Arteaga"
   ]
  },
  {
   "cell_type": "markdown",
   "metadata": {},
   "source": [
    "Importamos las librerias necesarias"
   ]
  },
  {
   "cell_type": "code",
   "execution_count": 2,
   "metadata": {},
   "outputs": [],
   "source": [
    "import pandas as pd, time\n",
    "import dask.dataframe as ddf\n",
    "import os"
   ]
  },
  {
   "cell_type": "markdown",
   "metadata": {},
   "source": [
    "Creamos dos arreglos. El primero servira para guardar los nombres de los archivos a evaluar. El segundo almacenara el nombre correcto de todas las columnas de un DataFrame."
   ]
  },
  {
   "cell_type": "code",
   "execution_count": 3,
   "metadata": {},
   "outputs": [],
   "source": [
    "datos_csv = []"
   ]
  },
  {
   "cell_type": "code",
   "execution_count": 4,
   "metadata": {},
   "outputs": [],
   "source": [
    "lista_diferencias_ttdf_diferencia = []"
   ]
  },
  {
   "cell_type": "code",
   "execution_count": 5,
   "metadata": {},
   "outputs": [],
   "source": [
    "lista_viajes_largos = []"
   ]
  },
  {
   "cell_type": "markdown",
   "metadata": {},
   "source": [
    "Funcion que permite leer un archivo .csv y convertirlo en un DataFrame"
   ]
  },
  {
   "cell_type": "code",
   "execution_count": 6,
   "metadata": {},
   "outputs": [],
   "source": [
    "def lectura_csv():\n",
    "    archivos_csv = 'archivos_csv/trip_data_{:02d}.csv'\n",
    "    datos = (archivos_csv.format(k) \n",
    "             for k in range(1,13))\n",
    "    for dato in datos:\n",
    "        datos_csv.append(dato)"
   ]
  },
  {
   "cell_type": "code",
   "execution_count": 7,
   "metadata": {},
   "outputs": [],
   "source": [
    "lectura_csv()"
   ]
  },
  {
   "cell_type": "code",
   "execution_count": 20,
   "metadata": {},
   "outputs": [],
   "source": [
    "def huella_de_memoria():\n",
    "  '''Regresa la momoria usada por el proceso de python'''\n",
    "  mem = psutil.Process(os.getpid()).memory_info().rss\n",
    "  return (mem / 1024**2)"
   ]
  },
  {
   "cell_type": "code",
   "execution_count": null,
   "metadata": {},
   "outputs": [],
   "source": [
    "def todos_pandas():\n",
    "    for i in range(0, 12):\n",
    "        huella_inicio = huella_de_memoria()\n",
    "        huella_inicio\n",
    "        t_start = time.time()\n",
    "        df = pd.read_csv(datos_csv[i])\n",
    "        t_end = time.time()\n",
    "        print('Tiempo que tarda pandas en construir un DataFrame: {} s'.format(t_end-t_start))\n",
    "        huella_fin = huella_de_memoria()\n",
    "        huella_fin\n",
    "        print(\"La huella de memoria utilizada para el proceso fue: {} mb\".format(huella_fin - huella_inicio))\n",
    "        df.isna().sum()\n",
    "        df_nulos_p1 = df[df['store_and_fwd_flag'].isna()]\n",
    "        df_nulos_p2 = df[df['dropoff_longitude'].isna()]\n",
    "        df_nulos_p3 = df[df['dropoff_latitude'].isna()]\n",
    "        df = df.dropna(how='all', subset=['dropoff_longitude', 'dropoff_latitude'])\n",
    "        df = df.dropna(how='all', subset=['store_and_fwd_flag'])\n",
    "        df.isna().sum()\n",
    "        td_dife_cero = (df['trip_distance'] != 0.0)\n",
    "        inicio = time.time()\n",
    "        td_dife_cero.mean()\n",
    "        fin = time.time()\n",
    "        print('Tiempo que tarda pandas en optener el promedio de la distancia de viaje: {} s'.format(fin-inicio))\n",
    "        df.shape"
   ]
  },
  {
   "cell_type": "code",
   "execution_count": null,
   "metadata": {},
   "outputs": [],
   "source": [
    "todo_pandas()"
   ]
  },
  {
   "cell_type": "markdown",
   "metadata": {},
   "source": [
    "6.3 - Funcion que permite obtener el promedio de trip_distance en un DataFrame"
   ]
  },
  {
   "cell_type": "code",
   "execution_count": 8,
   "metadata": {},
   "outputs": [],
   "source": [
    "def promedio_trip_distance(data_frame):\n",
    "    td_dask = data_frame['trip_distance']\n",
    "    t_inicio = time.time()\n",
    "    td_dask.mean()\n",
    "    t_fin = time.time()\n",
    "    print(\"El tiempo que tarda Dask en obtener el promedio de trip_distance es: {} s\".format(t_fin-t_inicio))"
   ]
  },
  {
   "cell_type": "markdown",
   "metadata": {},
   "source": [
    "6.4 - Funcion que permite obtener el promedio de trip_time_in_secs en un DataFrame"
   ]
  },
  {
   "cell_type": "code",
   "execution_count": 9,
   "metadata": {},
   "outputs": [],
   "source": [
    "def promedio_trip_time_in_secs(data_frame):\n",
    "    ttis_dask = data_frame['trip_time_in_secs']\n",
    "    tiempo_i = time.time()\n",
    "    ttis_dask.mean()\n",
    "    tiempo_f = time.time()\n",
    "    print(\"El tiempo que tarda Dask en obtener el promedio de trip_time_in_secs es: {} s\".format(tiempo_f-tiempo_i))"
   ]
  },
  {
   "cell_type": "markdown",
   "metadata": {},
   "source": [
    "6.5 - Funcion que permite obtener la diferencia entre pickup_datetime y dropoff_datetime"
   ]
  },
  {
   "cell_type": "code",
   "execution_count": 10,
   "metadata": {},
   "outputs": [],
   "source": [
    "def diferencia_pickup_dropoff(data_frame):\n",
    "    data_frame['pickup_datetime'] = ddf.to_datetime(data_frame['pickup_datetime'])\n",
    "    data_frame['dropoff_datetime'] = ddf.to_datetime(data_frame['dropoff_datetime'])\n",
    "    duracion = data_frame['dropoff_datetime'] - data_frame['pickup_datetime']\n",
    "    data_frame = data_frame.assign(Duracion = duracion)\n",
    "    data_frame['Duracion'] = data_frame['Duracion'].dt.total_seconds()\n",
    "    comparacion = data_frame['Duracion'] - data_frame['trip_time_in_secs']\n",
    "    comparacion.astype('int64')\n",
    "    v = comparacion.count().compute()\n",
    "    lista_diferencias_ttdf_diferencia.append(v)"
   ]
  },
  {
   "cell_type": "markdown",
   "metadata": {},
   "source": [
    "6.6 - Funcion que permite definir los viajes largos como aquellos que duran mas de 20 minutos"
   ]
  },
  {
   "cell_type": "code",
   "execution_count": 11,
   "metadata": {},
   "outputs": [],
   "source": [
    "def definir_viajes_largos(data_frame):\n",
    "    viajes_largos = data_frame[data_frame['trip_time_in_secs'] > 1200]\n",
    "    v = viajes_largos['trip_time_in_secs'].count().compute()\n",
    "    lista_viajes_largos.append(v)\n",
    "    taxis_"
   ]
  },
  {
   "cell_type": "markdown",
   "metadata": {},
   "source": [
    "8(a) - Numero de taxis diferentes que hiciseron un recorrido (o mas) de mas de 20 minutos"
   ]
  },
  {
   "cell_type": "code",
   "execution_count": null,
   "metadata": {},
   "outputs": [],
   "source": [
    "def taxis_diferentes(data_frame):\n",
    "    taxis = viajes_largos.groupby('medallion')\n",
    "    taxis.count().compute()\n",
    "    vehiculo = viajes_largos\n",
    "    vehiculos = vehiculo.drop(['hack_license', 'vendor_id', 'store_and_fwd_flag',\n",
    "       'pickup_datetime', 'dropoff_datetime', 'passenger_count',\n",
    "       'trip_time_in_secs', 'trip_distance', 'pickup_longitude',\n",
    "       'pickup_latitude', 'dropoff_longitude', 'dropoff_latitude'], axis=1)\n",
    "    print(\"Vehiculo que mas viajes hizo al mes: \")\n",
    "    vehiculos.max().compute()"
   ]
  },
  {
   "cell_type": "markdown",
   "metadata": {},
   "source": [
    "Funcion principal que permite llamar a todas las funciones anteriores"
   ]
  },
  {
   "cell_type": "code",
   "execution_count": 12,
   "metadata": {},
   "outputs": [],
   "source": [
    "def main():\n",
    "    for i in range(0,12):\n",
    "        print(\"archivo csv: {}\".format(i))\n",
    "        df_dask = ddf.read_csv(datos_csv[i], low_memory = False)\n",
    "        promedio_trip_distance(df_dask)\n",
    "        promedio_trip_time_in_secs(df_dask)\n",
    "        diferencia_pickup_dropoff(df_dask)\n",
    "        definir_viajes_largos(df_dask)"
   ]
  },
  {
   "cell_type": "code",
   "execution_count": 13,
   "metadata": {
    "scrolled": true
   },
   "outputs": [
    {
     "name": "stdout",
     "output_type": "stream",
     "text": [
      "archivo csv: 0\n",
      "El tiempo que tarda Dask en obtener el promedio de trip_distance es: 0.0039942264556884766 s\n",
      "El tiempo que tarda Dask en obtener el promedio de trip_time_in_secs es: 0.0 s\n",
      "archivo csv: 1\n",
      "El tiempo que tarda Dask en obtener el promedio de trip_distance es: 0.0 s\n",
      "El tiempo que tarda Dask en obtener el promedio de trip_time_in_secs es: 0.0 s\n",
      "archivo csv: 2\n",
      "El tiempo que tarda Dask en obtener el promedio de trip_distance es: 0.0 s\n",
      "El tiempo que tarda Dask en obtener el promedio de trip_time_in_secs es: 0.0 s\n",
      "archivo csv: 3\n",
      "El tiempo que tarda Dask en obtener el promedio de trip_distance es: 0.0 s\n",
      "El tiempo que tarda Dask en obtener el promedio de trip_time_in_secs es: 0.015621185302734375 s\n",
      "archivo csv: 4\n",
      "El tiempo que tarda Dask en obtener el promedio de trip_distance es: 0.0 s\n",
      "El tiempo que tarda Dask en obtener el promedio de trip_time_in_secs es: 0.0 s\n",
      "archivo csv: 5\n",
      "El tiempo que tarda Dask en obtener el promedio de trip_distance es: 0.0 s\n",
      "El tiempo que tarda Dask en obtener el promedio de trip_time_in_secs es: 0.0 s\n",
      "archivo csv: 6\n",
      "El tiempo que tarda Dask en obtener el promedio de trip_distance es: 0.0 s\n",
      "El tiempo que tarda Dask en obtener el promedio de trip_time_in_secs es: 0.01562190055847168 s\n",
      "archivo csv: 7\n",
      "El tiempo que tarda Dask en obtener el promedio de trip_distance es: 0.0 s\n",
      "El tiempo que tarda Dask en obtener el promedio de trip_time_in_secs es: 0.0 s\n",
      "archivo csv: 8\n",
      "El tiempo que tarda Dask en obtener el promedio de trip_distance es: 0.0 s\n",
      "El tiempo que tarda Dask en obtener el promedio de trip_time_in_secs es: 0.0 s\n",
      "archivo csv: 9\n",
      "El tiempo que tarda Dask en obtener el promedio de trip_distance es: 0.003994941711425781 s\n",
      "El tiempo que tarda Dask en obtener el promedio de trip_time_in_secs es: 0.003994464874267578 s\n",
      "archivo csv: 10\n",
      "El tiempo que tarda Dask en obtener el promedio de trip_distance es: 0.0039942264556884766 s\n",
      "El tiempo que tarda Dask en obtener el promedio de trip_time_in_secs es: 0.003995418548583984 s\n",
      "archivo csv: 11\n",
      "El tiempo que tarda Dask en obtener el promedio de trip_distance es: 0.004024028778076172 s\n",
      "El tiempo que tarda Dask en obtener el promedio de trip_time_in_secs es: 0.003993988037109375 s\n"
     ]
    }
   ],
   "source": [
    "main()"
   ]
  },
  {
   "cell_type": "markdown",
   "metadata": {},
   "source": [
    "6.5(b) - Numero de registros que en los que la columna trip_time_in_secs es diferente a la nueva columana de Duracion"
   ]
  },
  {
   "cell_type": "code",
   "execution_count": 17,
   "metadata": {},
   "outputs": [
    {
     "name": "stdout",
     "output_type": "stream",
     "text": [
      "El archivo 1 tiene 12597109 diferencias\n",
      "El archivo 2 tiene 13823840 diferencias\n",
      "El archivo 3 tiene 13971118 diferencias\n",
      "El archivo 4 tiene 13990176 diferencias\n",
      "El archivo 5 tiene 14107693 diferencias\n",
      "El archivo 6 tiene 14388451 diferencias\n",
      "El archivo 7 tiene 14385456 diferencias\n",
      "El archivo 8 tiene 14776615 diferencias\n",
      "El archivo 9 tiene 15004556 diferencias\n",
      "El archivo 10 tiene 15100468 diferencias\n",
      "El archivo 11 tiene 15285049 diferencias\n",
      "El archivo 12 tiene 15749228 diferencias\n"
     ]
    }
   ],
   "source": [
    "contador = 0\n",
    "for i in lista_diferencias_ttdf_diferencia:\n",
    "    print(\"El archivo {} tiene {} diferencias\".format((contador+1), i))\n",
    "    contador=contador+1"
   ]
  },
  {
   "cell_type": "markdown",
   "metadata": {},
   "source": [
    "7 - Cantidad de viajes largos"
   ]
  },
  {
   "cell_type": "code",
   "execution_count": 18,
   "metadata": {},
   "outputs": [
    {
     "name": "stdout",
     "output_type": "stream",
     "text": [
      "El archivo 1 tiene 1919857 viajes que duraron mas de 20 minutos\n",
      "El archivo 2 tiene 2084036 viajes que duraron mas de 20 minutos\n",
      "El archivo 3 tiene 2428514 viajes que duraron mas de 20 minutos\n",
      "El archivo 4 tiene 1768887 viajes que duraron mas de 20 minutos\n",
      "El archivo 5 tiene 2417638 viajes que duraron mas de 20 minutos\n",
      "El archivo 6 tiene 2373698 viajes que duraron mas de 20 minutos\n",
      "El archivo 7 tiene 2400513 viajes que duraron mas de 20 minutos\n",
      "El archivo 8 tiene 1715237 viajes que duraron mas de 20 minutos\n",
      "El archivo 9 tiene 2545155 viajes que duraron mas de 20 minutos\n",
      "El archivo 10 tiene 2264701 viajes que duraron mas de 20 minutos\n",
      "El archivo 11 tiene 2552684 viajes que duraron mas de 20 minutos\n",
      "El archivo 12 tiene 2111851 viajes que duraron mas de 20 minutos\n"
     ]
    }
   ],
   "source": [
    "contador = 0\n",
    "for j in lista_viajes_largos:\n",
    "    print(\"El archivo {} tiene {} viajes que duraron mas de 20 minutos\".format((contador+1), j))\n",
    "    contador=contador+1"
   ]
  },
  {
   "cell_type": "code",
   "execution_count": null,
   "metadata": {},
   "outputs": [],
   "source": []
  }
 ],
 "metadata": {
  "kernelspec": {
   "display_name": "Python 3",
   "language": "python",
   "name": "python3"
  },
  "language_info": {
   "codemirror_mode": {
    "name": "ipython",
    "version": 3
   },
   "file_extension": ".py",
   "mimetype": "text/x-python",
   "name": "python",
   "nbconvert_exporter": "python",
   "pygments_lexer": "ipython3",
   "version": "3.7.3"
  }
 },
 "nbformat": 4,
 "nbformat_minor": 2
}
